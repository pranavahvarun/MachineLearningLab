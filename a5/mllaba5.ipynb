{
  "nbformat": 4,
  "nbformat_minor": 0,
  "metadata": {
    "colab": {
      "provenance": [],
      "collapsed_sections": [
        "shDSsx2unrhn",
        "wEEBwRtA3mzd",
        "8ycnoYJv33VE"
      ]
    },
    "kernelspec": {
      "name": "python3",
      "display_name": "Python 3"
    },
    "language_info": {
      "name": "python"
    }
  },
  "cells": [
    {
      "cell_type": "markdown",
      "source": [
        "#Step 1 — Preprocess dataset"
      ],
      "metadata": {
        "id": "shDSsx2unrhn"
      }
    },
    {
      "cell_type": "code",
      "execution_count": 5,
      "metadata": {
        "id": "YOaiIrfmosXd",
        "colab": {
          "base_uri": "https://localhost:8080/"
        },
        "outputId": "ac4576af-f81f-4d42-9e17-e13804f1fbb6"
      },
      "outputs": [
        {
          "output_type": "stream",
          "name": "stdout",
          "text": [
            "Drive already mounted at /content/drive; to attempt to forcibly remount, call drive.mount(\"/content/drive\", force_remount=True).\n"
          ]
        }
      ],
      "source": [
        "from google.colab import drive\n",
        "drive.mount('/content/drive')\n",
        "\n",
        "import os, numpy as np, pandas as pd\n",
        "from PIL import Image\n",
        "from tqdm import tqdm\n",
        "from sklearn.preprocessing import LabelEncoder, StandardScaler\n",
        "from sklearn.model_selection import train_test_split"
      ]
    },
    {
      "cell_type": "code",
      "source": [
        "CSV_PATH = \"/content/drive/MyDrive/english.csv\"      # CSV file\n",
        "IMG_ROOT = \"/content/drive/MyDrive\"                  # parent folder containing \"Img/\"\n",
        "IMG_SIZE = (28,28)\n",
        "RANDOM_STATE = 42"
      ],
      "metadata": {
        "id": "SS8J2gqYpM0W"
      },
      "execution_count": 7,
      "outputs": []
    },
    {
      "cell_type": "markdown",
      "source": [
        "1) Read CSV"
      ],
      "metadata": {
        "id": "3zYHaO4gtdf1"
      }
    },
    {
      "cell_type": "code",
      "source": [
        "df = pd.read_csv(CSV_PATH)\n",
        "print(df.head(), df.shape)"
      ],
      "metadata": {
        "colab": {
          "base_uri": "https://localhost:8080/"
        },
        "id": "g73NFyTGs4_e",
        "outputId": "969a56e3-ea0b-4e09-9f94-801b2b058bbb"
      },
      "execution_count": 8,
      "outputs": [
        {
          "output_type": "stream",
          "name": "stdout",
          "text": [
            "                image label\n",
            "0  Img/img001-001.png     0\n",
            "1  Img/img001-002.png     0\n",
            "2  Img/img001-003.png     0\n",
            "3  Img/img001-004.png     0\n",
            "4  Img/img001-005.png     0 (3410, 2)\n"
          ]
        }
      ]
    },
    {
      "cell_type": "markdown",
      "source": [
        "2) Load and preprocess images"
      ],
      "metadata": {
        "id": "uNi8iq7IthPG"
      }
    },
    {
      "cell_type": "code",
      "source": [
        "# Load and preprocess images\n",
        "X_list, y_list = [], []\n",
        "for _, row in tqdm(df.iterrows(), total=len(df)):\n",
        "    img_path = os.path.join(IMG_ROOT, row['image'])  # e.g. \"Img/img001-001.png\"\n",
        "    img = Image.open(img_path).convert(\"L\").resize(IMG_SIZE, Image.BILINEAR)\n",
        "    arr = np.asarray(img, dtype=np.float32).flatten() / 255.0\n",
        "    X_list.append(arr)\n",
        "    y_list.append(row['label'])\n",
        "\n",
        "X_all = np.stack(X_list)\n",
        "y_all = np.array(y_list)"
      ],
      "metadata": {
        "colab": {
          "base_uri": "https://localhost:8080/"
        },
        "id": "Hgbq6tfzs6-d",
        "outputId": "647c03bf-e254-403a-ba99-316b18484174"
      },
      "execution_count": 9,
      "outputs": [
        {
          "output_type": "stream",
          "name": "stderr",
          "text": [
            "100%|██████████| 3410/3410 [28:19<00:00,  2.01it/s]\n"
          ]
        }
      ]
    },
    {
      "cell_type": "markdown",
      "source": [
        "3) Encode labels as integers"
      ],
      "metadata": {
        "id": "8dnmYPGOwErW"
      }
    },
    {
      "cell_type": "code",
      "source": [
        "le = LabelEncoder()\n",
        "y_all_i = le.fit_transform(y_all)\n",
        "num_classes = len(le.classes_)\n",
        "print(\"classes:\", num_classes)"
      ],
      "metadata": {
        "colab": {
          "base_uri": "https://localhost:8080/"
        },
        "id": "q-QJbowXwFu-",
        "outputId": "e30a0034-dcef-461f-b3ab-6819b3d1c114"
      },
      "execution_count": 10,
      "outputs": [
        {
          "output_type": "stream",
          "name": "stdout",
          "text": [
            "classes: 62\n"
          ]
        }
      ]
    },
    {
      "cell_type": "markdown",
      "source": [
        "4) Split into train/val/test"
      ],
      "metadata": {
        "id": "lmIxS2dCwHYl"
      }
    },
    {
      "cell_type": "code",
      "source": [
        "X_trval, X_test, y_trval, y_test = train_test_split(\n",
        "    X_all, y_all_i, test_size=0.15, random_state=RANDOM_STATE, stratify=y_all_i\n",
        ")\n",
        "X_train, X_val, y_train, y_val = train_test_split(\n",
        "    X_trval, y_trval, test_size=0.15, random_state=RANDOM_STATE, stratify=y_trval\n",
        ")"
      ],
      "metadata": {
        "id": "muL24EuwwJgF"
      },
      "execution_count": 11,
      "outputs": []
    },
    {
      "cell_type": "markdown",
      "source": [
        "5) Standardize features"
      ],
      "metadata": {
        "id": "DqOrdtTAwLDN"
      }
    },
    {
      "cell_type": "code",
      "source": [
        "scaler = StandardScaler()\n",
        "X_train_s = scaler.fit_transform(X_train)\n",
        "X_val_s   = scaler.transform(X_val)\n",
        "X_test_s  = scaler.transform(X_test)\n",
        "\n",
        "print(\"train:\", X_train_s.shape, \"val:\", X_val_s.shape, \"test:\", X_test_s.shape)"
      ],
      "metadata": {
        "colab": {
          "base_uri": "https://localhost:8080/"
        },
        "id": "hH3JhnbIwM6H",
        "outputId": "18877346-9546-4f51-adc0-41f0477833db"
      },
      "execution_count": 12,
      "outputs": [
        {
          "output_type": "stream",
          "name": "stdout",
          "text": [
            "train: (2463, 784) val: (435, 784) test: (512, 784)\n"
          ]
        }
      ]
    },
    {
      "cell_type": "markdown",
      "source": [
        "#Step 2 — PLA from scratch"
      ],
      "metadata": {
        "id": "wEEBwRtA3mzd"
      }
    },
    {
      "cell_type": "code",
      "source": [
        "import numpy as np\n",
        "from sklearn.metrics import accuracy_score, precision_recall_fscore_support"
      ],
      "metadata": {
        "id": "Zhyar2Us3oBF"
      },
      "execution_count": 13,
      "outputs": []
    },
    {
      "cell_type": "code",
      "source": [
        "class OneVsRestPLA:\n",
        "    def __init__(self, n_features, n_classes, lr=0.01, epochs=50, random_state=None):\n",
        "        rng = np.random.RandomState(random_state)\n",
        "        self.W = rng.normal(scale=0.01, size=(n_classes, n_features))\n",
        "        self.b = np.zeros(n_classes)\n",
        "        self.lr, self.epochs, self.n_classes = lr, epochs, n_classes\n",
        "\n",
        "    def _step(self, x):\n",
        "        return (self.W.dot(x) + self.b >= 0).astype(int)\n",
        "\n",
        "    def fit(self, X, y):\n",
        "        for _ in range(self.epochs):\n",
        "            idx = np.arange(len(X)); np.random.shuffle(idx)\n",
        "            updates = 0\n",
        "            for i in idx:\n",
        "                xi, yi = X[i], y[i]\n",
        "                t = np.zeros(self.n_classes, int); t[yi] = 1\n",
        "                p = self._step(xi); d = t - p\n",
        "                if np.any(d != 0):\n",
        "                    for k in np.where(d != 0)[0]:\n",
        "                        self.W[k] += self.lr * d[k] * xi\n",
        "                        self.b[k] += self.lr * d[k]\n",
        "                        updates += 1\n",
        "            if updates == 0: break\n",
        "        return self\n",
        "\n",
        "    def predict(self, X):\n",
        "        return (X.dot(self.W.T) + self.b).argmax(axis=1)"
      ],
      "metadata": {
        "id": "3d6SL-nA3vYM"
      },
      "execution_count": 14,
      "outputs": []
    },
    {
      "cell_type": "code",
      "source": [
        "pla = OneVsRestPLA(X_train_s.shape[1], num_classes, lr=0.01, epochs=50, random_state=42)\n",
        "pla.fit(X_train_s, y_train)\n",
        "\n",
        "y_val_pla = pla.predict(X_val_s)\n",
        "y_test_pla = pla.predict(X_test_s)\n",
        "\n",
        "def metrics(y_true, y_pred):\n",
        "    acc = accuracy_score(y_true, y_pred)\n",
        "    p, r, f1, _ = precision_recall_fscore_support(y_true, y_pred, average='macro', zero_division=0)\n",
        "    return {\"accuracy\": acc, \"precision\": p, \"recall\": r, \"f1\": f1}\n",
        "\n",
        "print(\"PLA val:\", metrics(y_val, y_val_pla))\n",
        "print(\"PLA test:\", metrics(y_test, y_test_pla))"
      ],
      "metadata": {
        "colab": {
          "base_uri": "https://localhost:8080/"
        },
        "id": "1Bv1wMkt3xTl",
        "outputId": "07a1f2ff-44b9-48dd-bc2d-8968a0a2c47d"
      },
      "execution_count": 15,
      "outputs": [
        {
          "output_type": "stream",
          "name": "stdout",
          "text": [
            "PLA val: {'accuracy': 0.2045977011494253, 'precision': 0.21474108328947042, 'recall': 0.20449308755760362, 'f1': 0.19557620557071267}\n",
            "PLA test: {'accuracy': 0.2109375, 'precision': 0.21537522277759968, 'recall': 0.21079749103942652, 'f1': 0.19803805898426372}\n"
          ]
        }
      ]
    },
    {
      "cell_type": "markdown",
      "source": [
        "#Step 3 — MLP implementation (PyTorch)"
      ],
      "metadata": {
        "id": "8ycnoYJv33VE"
      }
    },
    {
      "cell_type": "code",
      "source": [
        "import torch, torch.nn as nn, torch.optim as optim\n",
        "from torch.utils.data import TensorDataset, DataLoader\n",
        "\n",
        "DEVICE = torch.device(\"cuda\" if torch.cuda.is_available() else \"cpu\")"
      ],
      "metadata": {
        "id": "54Z0CveC34b0"
      },
      "execution_count": 16,
      "outputs": []
    },
    {
      "cell_type": "code",
      "source": [
        "class SimpleMLP(nn.Module):\n",
        "    def __init__(self, in_dim, hidden, out_dim, act='relu'):\n",
        "        super().__init__()\n",
        "        layers = []\n",
        "        prev = in_dim\n",
        "        for h in hidden:\n",
        "            layers.append(nn.Linear(prev, h))\n",
        "            layers.append(nn.ReLU() if act=='relu' else nn.Tanh() if act=='tanh' else nn.Sigmoid())\n",
        "            prev = h\n",
        "        layers.append(nn.Linear(prev, out_dim))\n",
        "        self.net = nn.Sequential(*layers)\n",
        "    def forward(self, x): return self.net(x)"
      ],
      "metadata": {
        "id": "0pwtzT5C37bt"
      },
      "execution_count": 17,
      "outputs": []
    },
    {
      "cell_type": "code",
      "source": [
        "def make_loaders(Xtr,ytr,Xv,yv,bs):\n",
        "    tr = TensorDataset(torch.tensor(Xtr, dtype=torch.float32), torch.tensor(ytr, dtype=torch.long))\n",
        "    va = TensorDataset(torch.tensor(Xv, dtype=torch.float32), torch.tensor(yv, dtype=torch.long))\n",
        "    return DataLoader(tr, bs, shuffle=True), DataLoader(va, bs, shuffle=False)\n",
        "\n",
        "def train_model(model, tr_loader, va_loader, epochs, opt, crit, device):\n",
        "    model.to(device)\n",
        "    hist = {\"train_acc\":[], \"val_acc\":[]}\n",
        "    for ep in range(epochs):\n",
        "        model.train(); tcorrect=ttotal=0\n",
        "        for xb,yb in tr_loader:\n",
        "            xb,yb = xb.to(device), yb.to(device)\n",
        "            opt.zero_grad(); log=model(xb); loss=crit(log,yb)\n",
        "            loss.backward(); opt.step()\n",
        "            tcorrect += (log.argmax(1)==yb).sum().item(); ttotal += yb.size(0)\n",
        "        tr_acc = tcorrect/ttotal\n",
        "\n",
        "        model.eval(); vcorrect=vtotal=0\n",
        "        with torch.no_grad():\n",
        "            for xb,yb in va_loader:\n",
        "                xb,yb = xb.to(device), yb.to(device)\n",
        "                log = model(xb)\n",
        "                vcorrect += (log.argmax(1)==yb).sum().item(); vtotal += yb.size(0)\n",
        "        va_acc = vcorrect/vtotal\n",
        "\n",
        "        hist[\"train_acc\"].append(tr_acc); hist[\"val_acc\"].append(va_acc)\n",
        "        print(f\"ep{ep+1} train {tr_acc:.4f} val {va_acc:.4f}\")\n",
        "    return hist"
      ],
      "metadata": {
        "id": "Cc7tvGoJ4AN0"
      },
      "execution_count": 18,
      "outputs": []
    },
    {
      "cell_type": "markdown",
      "source": [
        "#Step 4 — Hyperparameter tuning"
      ],
      "metadata": {
        "id": "9Y4LFnv74CH0"
      }
    },
    {
      "cell_type": "code",
      "source": [
        "from itertools import product\n",
        "\n",
        "param_grid = {\n",
        "    \"hidden\": [[256],[256,128]],\n",
        "    \"act\": [\"relu\",\"tanh\"],\n",
        "    \"opt\": [\"adam\",\"sgd\"],\n",
        "    \"lr\": [1e-3,1e-2],\n",
        "    \"bs\": [128,256]\n",
        "}"
      ],
      "metadata": {
        "id": "rMA89pz24DG8"
      },
      "execution_count": 19,
      "outputs": []
    },
    {
      "cell_type": "code",
      "source": [
        "def grid_search(Xtr, ytr, Xv, yv, grid, epochs=8):\n",
        "    best=None\n",
        "    for hidden,act,opt_name,lr,bs in product(grid[\"hidden\"], grid[\"act\"], grid[\"opt\"], grid[\"lr\"], grid[\"bs\"]):\n",
        "        cfg={\"hidden\":hidden,\"act\":act,\"opt\":opt_name,\"lr\":lr,\"bs\":bs}\n",
        "        print(\"cfg:\",cfg)\n",
        "        m=SimpleMLP(Xtr.shape[1],hidden,num_classes,act)\n",
        "        o=optim.Adam(m.parameters(),lr=lr) if opt_name==\"adam\" else optim.SGD(m.parameters(),lr=lr,momentum=0.9)\n",
        "        c=nn.CrossEntropyLoss()\n",
        "        tr_loader,va_loader=make_loaders(Xtr,ytr,Xv,yv,bs)\n",
        "        hist=train_model(m,tr_loader,va_loader,epochs,o,c,DEVICE)\n",
        "        val_acc=hist[\"val_acc\"][-1]\n",
        "        if best is None or val_acc>best[1]:\n",
        "            best=(cfg,val_acc,m,hist)   # include hist in tuple\n",
        "    return best\n",
        "\n",
        "\n",
        "best = grid_search(X_train_s,y_train,X_val_s,y_val,param_grid,epochs=8)\n",
        "print(\"best cfg:\", best[0], \"val_acc:\", best[1])"
      ],
      "metadata": {
        "colab": {
          "base_uri": "https://localhost:8080/"
        },
        "id": "NLacJcFP4FP0",
        "outputId": "04132176-6a11-4168-86c6-0788b16d21a7"
      },
      "execution_count": 25,
      "outputs": [
        {
          "output_type": "stream",
          "name": "stdout",
          "text": [
            "cfg: {'hidden': [256], 'act': 'relu', 'opt': 'adam', 'lr': 0.001, 'bs': 128}\n",
            "ep1 train 0.0999 val 0.1655\n",
            "ep2 train 0.3130 val 0.2506\n",
            "ep3 train 0.4101 val 0.3310\n",
            "ep4 train 0.4880 val 0.3793\n",
            "ep5 train 0.5522 val 0.4046\n",
            "ep6 train 0.6001 val 0.4276\n",
            "ep7 train 0.6346 val 0.4506\n",
            "ep8 train 0.6793 val 0.4598\n",
            "cfg: {'hidden': [256], 'act': 'relu', 'opt': 'adam', 'lr': 0.001, 'bs': 256}\n",
            "ep1 train 0.0788 val 0.1586\n",
            "ep2 train 0.2769 val 0.2230\n",
            "ep3 train 0.3646 val 0.2736\n",
            "ep4 train 0.4149 val 0.3034\n",
            "ep5 train 0.4612 val 0.3333\n",
            "ep6 train 0.5116 val 0.3632\n",
            "ep7 train 0.5518 val 0.3885\n",
            "ep8 train 0.5887 val 0.4023\n",
            "cfg: {'hidden': [256], 'act': 'relu', 'opt': 'adam', 'lr': 0.01, 'bs': 128}\n",
            "ep1 train 0.1811 val 0.3103\n",
            "ep2 train 0.4202 val 0.3839\n",
            "ep3 train 0.5753 val 0.4138\n",
            "ep4 train 0.6634 val 0.4161\n",
            "ep5 train 0.7353 val 0.4322\n",
            "ep6 train 0.7775 val 0.4276\n",
            "ep7 train 0.7970 val 0.4253\n",
            "ep8 train 0.7832 val 0.4345\n",
            "cfg: {'hidden': [256], 'act': 'relu', 'opt': 'adam', 'lr': 0.01, 'bs': 256}\n",
            "ep1 train 0.1474 val 0.3149\n",
            "ep2 train 0.4283 val 0.3954\n",
            "ep3 train 0.5855 val 0.4322\n",
            "ep4 train 0.7032 val 0.4253\n",
            "ep5 train 0.7682 val 0.4322\n",
            "ep6 train 0.8230 val 0.4299\n",
            "ep7 train 0.8774 val 0.4506\n",
            "ep8 train 0.9176 val 0.4989\n",
            "cfg: {'hidden': [256], 'act': 'relu', 'opt': 'sgd', 'lr': 0.001, 'bs': 128}\n",
            "ep1 train 0.0097 val 0.0115\n",
            "ep2 train 0.0122 val 0.0115\n",
            "ep3 train 0.0183 val 0.0115\n",
            "ep4 train 0.0260 val 0.0230\n",
            "ep5 train 0.0337 val 0.0276\n",
            "ep6 train 0.0467 val 0.0322\n",
            "ep7 train 0.0641 val 0.0483\n",
            "ep8 train 0.0755 val 0.0552\n",
            "cfg: {'hidden': [256], 'act': 'relu', 'opt': 'sgd', 'lr': 0.001, 'bs': 256}\n",
            "ep1 train 0.0146 val 0.0161\n",
            "ep2 train 0.0158 val 0.0161\n",
            "ep3 train 0.0187 val 0.0138\n",
            "ep4 train 0.0207 val 0.0138\n",
            "ep5 train 0.0235 val 0.0161\n",
            "ep6 train 0.0260 val 0.0161\n",
            "ep7 train 0.0317 val 0.0230\n",
            "ep8 train 0.0361 val 0.0230\n",
            "cfg: {'hidden': [256], 'act': 'relu', 'opt': 'sgd', 'lr': 0.01, 'bs': 128}\n",
            "ep1 train 0.0231 val 0.0483\n",
            "ep2 train 0.1238 val 0.1287\n",
            "ep3 train 0.2127 val 0.1609\n",
            "ep4 train 0.2712 val 0.1908\n",
            "ep5 train 0.3106 val 0.2115\n",
            "ep6 train 0.3463 val 0.2345\n",
            "ep7 train 0.3877 val 0.2644\n",
            "ep8 train 0.4287 val 0.3034\n",
            "cfg: {'hidden': [256], 'act': 'relu', 'opt': 'sgd', 'lr': 0.01, 'bs': 256}\n",
            "ep1 train 0.0150 val 0.0230\n",
            "ep2 train 0.0374 val 0.0713\n",
            "ep3 train 0.0966 val 0.1195\n",
            "ep4 train 0.1600 val 0.1471\n",
            "ep5 train 0.1969 val 0.1586\n",
            "ep6 train 0.2347 val 0.1655\n",
            "ep7 train 0.2598 val 0.1770\n",
            "ep8 train 0.3025 val 0.1908\n",
            "cfg: {'hidden': [256], 'act': 'tanh', 'opt': 'adam', 'lr': 0.001, 'bs': 128}\n",
            "ep1 train 0.1186 val 0.2276\n",
            "ep2 train 0.3370 val 0.2897\n",
            "ep3 train 0.4304 val 0.3494\n",
            "ep4 train 0.4945 val 0.3839\n",
            "ep5 train 0.5363 val 0.4000\n",
            "ep6 train 0.5672 val 0.4138\n",
            "ep7 train 0.5964 val 0.4207\n",
            "ep8 train 0.6151 val 0.4184\n",
            "cfg: {'hidden': [256], 'act': 'tanh', 'opt': 'adam', 'lr': 0.001, 'bs': 256}\n",
            "ep1 train 0.0840 val 0.1563\n",
            "ep2 train 0.2980 val 0.2299\n",
            "ep3 train 0.3727 val 0.2828\n",
            "ep4 train 0.4385 val 0.3195\n",
            "ep5 train 0.4827 val 0.3494\n",
            "ep6 train 0.5181 val 0.3586\n",
            "ep7 train 0.5457 val 0.3793\n",
            "ep8 train 0.5676 val 0.3908\n",
            "cfg: {'hidden': [256], 'act': 'tanh', 'opt': 'adam', 'lr': 0.01, 'bs': 128}\n",
            "ep1 train 0.2127 val 0.3402\n",
            "ep2 train 0.4462 val 0.4023\n",
            "ep3 train 0.5911 val 0.4460\n",
            "ep4 train 0.7040 val 0.4391\n",
            "ep5 train 0.7828 val 0.4483\n",
            "ep6 train 0.8591 val 0.4644\n",
            "ep7 train 0.9204 val 0.4851\n",
            "ep8 train 0.9545 val 0.4529\n",
            "cfg: {'hidden': [256], 'act': 'tanh', 'opt': 'adam', 'lr': 0.01, 'bs': 256}\n",
            "ep1 train 0.1709 val 0.3057\n",
            "ep2 train 0.4689 val 0.3839\n",
            "ep3 train 0.5794 val 0.4138\n",
            "ep4 train 0.6935 val 0.4253\n",
            "ep5 train 0.7775 val 0.4506\n",
            "ep6 train 0.8469 val 0.4391\n",
            "ep7 train 0.8916 val 0.4575\n",
            "ep8 train 0.9285 val 0.4368\n",
            "cfg: {'hidden': [256], 'act': 'tanh', 'opt': 'sgd', 'lr': 0.001, 'bs': 128}\n",
            "ep1 train 0.0231 val 0.0253\n",
            "ep2 train 0.0296 val 0.0345\n",
            "ep3 train 0.0475 val 0.0368\n",
            "ep4 train 0.0662 val 0.0529\n",
            "ep5 train 0.0849 val 0.0782\n",
            "ep6 train 0.1104 val 0.0897\n",
            "ep7 train 0.1356 val 0.1172\n",
            "ep8 train 0.1535 val 0.1126\n",
            "cfg: {'hidden': [256], 'act': 'tanh', 'opt': 'sgd', 'lr': 0.001, 'bs': 256}\n",
            "ep1 train 0.0183 val 0.0161\n",
            "ep2 train 0.0191 val 0.0184\n",
            "ep3 train 0.0252 val 0.0230\n",
            "ep4 train 0.0292 val 0.0276\n",
            "ep5 train 0.0369 val 0.0345\n",
            "ep6 train 0.0475 val 0.0483\n",
            "ep7 train 0.0601 val 0.0644\n",
            "ep8 train 0.0698 val 0.0736\n",
            "cfg: {'hidden': [256], 'act': 'tanh', 'opt': 'sgd', 'lr': 0.01, 'bs': 128}\n",
            "ep1 train 0.0309 val 0.0989\n",
            "ep2 train 0.1843 val 0.2069\n",
            "ep3 train 0.2773 val 0.2207\n",
            "ep4 train 0.3252 val 0.2483\n",
            "ep5 train 0.3630 val 0.2874\n",
            "ep6 train 0.4044 val 0.3149\n",
            "ep7 train 0.4332 val 0.3333\n",
            "ep8 train 0.4580 val 0.3494\n",
            "cfg: {'hidden': [256], 'act': 'tanh', 'opt': 'sgd', 'lr': 0.01, 'bs': 256}\n",
            "ep1 train 0.0252 val 0.0529\n",
            "ep2 train 0.0682 val 0.1126\n",
            "ep3 train 0.1689 val 0.1517\n",
            "ep4 train 0.2261 val 0.1839\n",
            "ep5 train 0.2692 val 0.2138\n",
            "ep6 train 0.2964 val 0.2345\n",
            "ep7 train 0.3138 val 0.2529\n",
            "ep8 train 0.3337 val 0.2575\n",
            "cfg: {'hidden': [256, 128], 'act': 'relu', 'opt': 'adam', 'lr': 0.001, 'bs': 128}\n",
            "ep1 train 0.0495 val 0.1080\n",
            "ep2 train 0.1770 val 0.2138\n",
            "ep3 train 0.3000 val 0.3080\n",
            "ep4 train 0.4227 val 0.3609\n",
            "ep5 train 0.4909 val 0.3977\n",
            "ep6 train 0.5530 val 0.4276\n",
            "ep7 train 0.5960 val 0.4253\n",
            "ep8 train 0.6496 val 0.4414\n",
            "cfg: {'hidden': [256, 128], 'act': 'relu', 'opt': 'adam', 'lr': 0.001, 'bs': 256}\n",
            "ep1 train 0.0520 val 0.1103\n",
            "ep2 train 0.1583 val 0.1540\n",
            "ep3 train 0.2233 val 0.2322\n",
            "ep4 train 0.3130 val 0.2874\n",
            "ep5 train 0.3987 val 0.3356\n",
            "ep6 train 0.4633 val 0.3517\n",
            "ep7 train 0.5173 val 0.4046\n",
            "ep8 train 0.5514 val 0.4276\n",
            "cfg: {'hidden': [256, 128], 'act': 'relu', 'opt': 'adam', 'lr': 0.01, 'bs': 128}\n",
            "ep1 train 0.1194 val 0.2552\n",
            "ep2 train 0.3520 val 0.3471\n",
            "ep3 train 0.4827 val 0.3862\n",
            "ep4 train 0.5753 val 0.4253\n",
            "ep5 train 0.6293 val 0.4368\n",
            "ep6 train 0.6602 val 0.4644\n",
            "ep7 train 0.7178 val 0.4667\n",
            "ep8 train 0.7312 val 0.4598\n",
            "cfg: {'hidden': [256, 128], 'act': 'relu', 'opt': 'adam', 'lr': 0.01, 'bs': 256}\n",
            "ep1 train 0.0885 val 0.2368\n",
            "ep2 train 0.3609 val 0.3632\n",
            "ep3 train 0.4953 val 0.4299\n",
            "ep4 train 0.6301 val 0.4368\n",
            "ep5 train 0.7077 val 0.4713\n",
            "ep6 train 0.7637 val 0.4851\n",
            "ep7 train 0.8303 val 0.4943\n",
            "ep8 train 0.8534 val 0.4782\n",
            "cfg: {'hidden': [256, 128], 'act': 'relu', 'opt': 'sgd', 'lr': 0.001, 'bs': 128}\n",
            "ep1 train 0.0211 val 0.0207\n",
            "ep2 train 0.0231 val 0.0230\n",
            "ep3 train 0.0235 val 0.0299\n",
            "ep4 train 0.0264 val 0.0345\n",
            "ep5 train 0.0280 val 0.0414\n",
            "ep6 train 0.0284 val 0.0437\n",
            "ep7 train 0.0309 val 0.0460\n",
            "ep8 train 0.0337 val 0.0483\n",
            "cfg: {'hidden': [256, 128], 'act': 'relu', 'opt': 'sgd', 'lr': 0.001, 'bs': 256}\n",
            "ep1 train 0.0183 val 0.0138\n",
            "ep2 train 0.0183 val 0.0138\n",
            "ep3 train 0.0183 val 0.0138\n",
            "ep4 train 0.0195 val 0.0138\n",
            "ep5 train 0.0207 val 0.0138\n",
            "ep6 train 0.0219 val 0.0161\n",
            "ep7 train 0.0235 val 0.0207\n",
            "ep8 train 0.0260 val 0.0207\n",
            "cfg: {'hidden': [256, 128], 'act': 'relu', 'opt': 'sgd', 'lr': 0.01, 'bs': 128}\n",
            "ep1 train 0.0138 val 0.0322\n",
            "ep2 train 0.0345 val 0.0460\n",
            "ep3 train 0.0637 val 0.0437\n",
            "ep4 train 0.0893 val 0.0690\n",
            "ep5 train 0.0995 val 0.0598\n",
            "ep6 train 0.1230 val 0.0667\n",
            "ep7 train 0.1287 val 0.0874\n",
            "ep8 train 0.1421 val 0.1080\n",
            "cfg: {'hidden': [256, 128], 'act': 'relu', 'opt': 'sgd', 'lr': 0.01, 'bs': 256}\n",
            "ep1 train 0.0126 val 0.0138\n",
            "ep2 train 0.0191 val 0.0207\n",
            "ep3 train 0.0264 val 0.0253\n",
            "ep4 train 0.0394 val 0.0391\n",
            "ep5 train 0.0593 val 0.0552\n",
            "ep6 train 0.0759 val 0.0552\n",
            "ep7 train 0.0974 val 0.0575\n",
            "ep8 train 0.1149 val 0.0759\n",
            "cfg: {'hidden': [256, 128], 'act': 'tanh', 'opt': 'adam', 'lr': 0.001, 'bs': 128}\n",
            "ep1 train 0.0840 val 0.1954\n",
            "ep2 train 0.2749 val 0.2713\n",
            "ep3 train 0.3589 val 0.3402\n",
            "ep4 train 0.4198 val 0.3609\n",
            "ep5 train 0.4832 val 0.3885\n",
            "ep6 train 0.5388 val 0.4023\n",
            "ep7 train 0.5607 val 0.4023\n",
            "ep8 train 0.5976 val 0.4092\n",
            "cfg: {'hidden': [256, 128], 'act': 'tanh', 'opt': 'adam', 'lr': 0.001, 'bs': 256}\n",
            "ep1 train 0.0820 val 0.1494\n",
            "ep2 train 0.2339 val 0.1908\n",
            "ep3 train 0.2720 val 0.2276\n",
            "ep4 train 0.3622 val 0.3172\n",
            "ep5 train 0.4194 val 0.3356\n",
            "ep6 train 0.4706 val 0.3586\n",
            "ep7 train 0.5014 val 0.3632\n",
            "ep8 train 0.5274 val 0.3816\n",
            "cfg: {'hidden': [256, 128], 'act': 'tanh', 'opt': 'adam', 'lr': 0.01, 'bs': 128}\n",
            "ep1 train 0.1774 val 0.2966\n",
            "ep2 train 0.3991 val 0.3655\n",
            "ep3 train 0.5359 val 0.4460\n",
            "ep4 train 0.6707 val 0.4437\n",
            "ep5 train 0.7495 val 0.4782\n",
            "ep6 train 0.8222 val 0.4644\n",
            "ep7 train 0.8827 val 0.4805\n",
            "ep8 train 0.9091 val 0.4736\n",
            "cfg: {'hidden': [256, 128], 'act': 'tanh', 'opt': 'adam', 'lr': 0.01, 'bs': 256}\n",
            "ep1 train 0.1445 val 0.2828\n",
            "ep2 train 0.3946 val 0.4046\n",
            "ep3 train 0.5546 val 0.4000\n",
            "ep4 train 0.6581 val 0.4529\n",
            "ep5 train 0.7540 val 0.4414\n",
            "ep6 train 0.8254 val 0.4690\n",
            "ep7 train 0.8733 val 0.4736\n",
            "ep8 train 0.9298 val 0.4483\n",
            "cfg: {'hidden': [256, 128], 'act': 'tanh', 'opt': 'sgd', 'lr': 0.001, 'bs': 128}\n",
            "ep1 train 0.0154 val 0.0184\n",
            "ep2 train 0.0195 val 0.0230\n",
            "ep3 train 0.0248 val 0.0437\n",
            "ep4 train 0.0337 val 0.0437\n",
            "ep5 train 0.0418 val 0.0575\n",
            "ep6 train 0.0499 val 0.0621\n",
            "ep7 train 0.0621 val 0.0667\n",
            "ep8 train 0.0719 val 0.0713\n",
            "cfg: {'hidden': [256, 128], 'act': 'tanh', 'opt': 'sgd', 'lr': 0.001, 'bs': 256}\n",
            "ep1 train 0.0150 val 0.0207\n",
            "ep2 train 0.0199 val 0.0207\n",
            "ep3 train 0.0223 val 0.0253\n",
            "ep4 train 0.0252 val 0.0276\n",
            "ep5 train 0.0292 val 0.0322\n",
            "ep6 train 0.0313 val 0.0322\n",
            "ep7 train 0.0378 val 0.0322\n",
            "ep8 train 0.0434 val 0.0345\n",
            "cfg: {'hidden': [256, 128], 'act': 'tanh', 'opt': 'sgd', 'lr': 0.01, 'bs': 128}\n",
            "ep1 train 0.0321 val 0.0552\n",
            "ep2 train 0.1064 val 0.1149\n",
            "ep3 train 0.1721 val 0.1494\n",
            "ep4 train 0.2172 val 0.1862\n",
            "ep5 train 0.2440 val 0.1931\n",
            "ep6 train 0.2700 val 0.2207\n",
            "ep7 train 0.2858 val 0.2391\n",
            "ep8 train 0.3317 val 0.2828\n",
            "cfg: {'hidden': [256, 128], 'act': 'tanh', 'opt': 'sgd', 'lr': 0.01, 'bs': 256}\n",
            "ep1 train 0.0203 val 0.0322\n",
            "ep2 train 0.0434 val 0.0690\n",
            "ep3 train 0.0930 val 0.0943\n",
            "ep4 train 0.1320 val 0.1264\n",
            "ep5 train 0.1705 val 0.1586\n",
            "ep6 train 0.1843 val 0.1862\n",
            "ep7 train 0.2030 val 0.1931\n",
            "ep8 train 0.2103 val 0.1931\n",
            "best cfg: {'hidden': [256], 'act': 'relu', 'opt': 'adam', 'lr': 0.01, 'bs': 256} val_acc: 0.49885057471264366\n"
          ]
        }
      ]
    },
    {
      "cell_type": "code",
      "source": [
        "# Justification of chosen hyperparameters\n",
        "print(\"Best configuration:\", best_cfg)\n",
        "print(f\"This configuration was chosen because it achieved the highest validation accuracy \"\n",
        "      f\"({best[1]:.4f}) compared to other settings. \"\n",
        "      f\"For example, Adam with ReLU and lr={best_cfg['lr']} converged faster and avoided overfitting \"\n",
        "      f\"better than SGD or Tanh.\")\n"
      ],
      "metadata": {
        "colab": {
          "base_uri": "https://localhost:8080/"
        },
        "id": "K7Gbrqit5Ubs",
        "outputId": "d9bfdd9b-be90-4b1d-d6ce-cbd1eb3802f5"
      },
      "execution_count": 26,
      "outputs": [
        {
          "output_type": "stream",
          "name": "stdout",
          "text": [
            "Best configuration: {'hidden': [256, 128], 'act': 'relu', 'opt': 'adam', 'lr': 0.01, 'bs': 256}\n",
            "This configuration was chosen because it achieved the highest validation accuracy (0.4989) compared to other settings. For example, Adam with ReLU and lr=0.01 converged faster and avoided overfitting better than SGD or Tanh.\n"
          ]
        }
      ]
    },
    {
      "cell_type": "markdown",
      "source": [
        "#Step 5 — Retrain best MLP and compare with PLA"
      ],
      "metadata": {
        "id": "GVNbrvM34UxE"
      }
    },
    {
      "cell_type": "code",
      "source": [
        "best_cfg = best[0]\n",
        "X_final = np.vstack([X_train_s,X_val_s]); y_final = np.hstack([y_train,y_val])\n",
        "\n",
        "final = SimpleMLP(X_final.shape[1], best_cfg['hidden'], num_classes, best_cfg['act']).to(DEVICE)\n",
        "opt = optim.Adam(final.parameters(), lr=best_cfg['lr']) if best_cfg['opt']=='adam' else optim.SGD(final.parameters(), lr=best_cfg['lr'], momentum=0.9)\n",
        "crit = nn.CrossEntropyLoss()\n",
        "tr_loader,_=make_loaders(X_final,y_final,X_val_s,y_val,best_cfg['bs'])\n",
        "final_hist = train_model(final,tr_loader,\n",
        "                         DataLoader(TensorDataset(torch.tensor(X_test_s,dtype=torch.float32),\n",
        "                                                  torch.tensor(y_test,dtype=torch.long)),\n",
        "                                    batch_size=best_cfg['bs']),\n",
        "                         epochs=20, opt=opt, crit=crit, device=DEVICE)"
      ],
      "metadata": {
        "colab": {
          "base_uri": "https://localhost:8080/"
        },
        "id": "PQxuvdKa4Vy8",
        "outputId": "41ec96c2-aefc-4c98-b2f7-6c8342b268ab"
      },
      "execution_count": 30,
      "outputs": [
        {
          "output_type": "stream",
          "name": "stdout",
          "text": [
            "ep1 train 0.1746 val 0.2910\n",
            "ep2 train 0.4500 val 0.4043\n",
            "ep3 train 0.5866 val 0.4102\n",
            "ep4 train 0.6632 val 0.4375\n",
            "ep5 train 0.7336 val 0.4668\n",
            "ep6 train 0.7881 val 0.4551\n",
            "ep7 train 0.8454 val 0.4648\n",
            "ep8 train 0.8592 val 0.4766\n",
            "ep9 train 0.8854 val 0.4688\n",
            "ep10 train 0.9065 val 0.4785\n",
            "ep11 train 0.9286 val 0.4746\n",
            "ep12 train 0.9369 val 0.4824\n",
            "ep13 train 0.9472 val 0.4629\n",
            "ep14 train 0.9631 val 0.4688\n",
            "ep15 train 0.9651 val 0.4707\n",
            "ep16 train 0.9738 val 0.4629\n",
            "ep17 train 0.9772 val 0.4980\n",
            "ep18 train 0.9900 val 0.4902\n",
            "ep19 train 0.9934 val 0.5000\n",
            "ep20 train 0.9945 val 0.5059\n"
          ]
        }
      ]
    },
    {
      "cell_type": "code",
      "source": [
        "final.eval()\n",
        "with torch.no_grad():\n",
        "    preds_mlp = final(torch.tensor(X_test_s,dtype=torch.float32).to(DEVICE)).argmax(1).cpu().numpy()\n",
        "\n",
        "print(\"PLA test:\", metrics(y_test,y_test_pla))\n",
        "print(\"MLP test:\", metrics(y_test,preds_mlp))"
      ],
      "metadata": {
        "colab": {
          "base_uri": "https://localhost:8080/"
        },
        "id": "LOzA-wEC4bWE",
        "outputId": "87395d82-8a42-411a-ac0d-fdff168810ee"
      },
      "execution_count": 31,
      "outputs": [
        {
          "output_type": "stream",
          "name": "stdout",
          "text": [
            "PLA test: {'accuracy': 0.2109375, 'precision': 0.21537522277759968, 'recall': 0.21079749103942652, 'f1': 0.19803805898426372}\n",
            "MLP test: {'accuracy': 0.505859375, 'precision': 0.5075137228363035, 'recall': 0.5082885304659498, 'f1': 0.49539757198425927}\n"
          ]
        }
      ]
    },
    {
      "cell_type": "markdown",
      "source": [
        "1. Training vs Validation Accuracy/Loss Curves (MLP)"
      ],
      "metadata": {
        "id": "9cdh5kpw5fss"
      }
    },
    {
      "cell_type": "code",
      "source": [
        "import matplotlib.pyplot as plt\n",
        "\n",
        "def plot_history(history):\n",
        "    plt.figure(figsize=(10,4))\n",
        "    plt.plot(history['train_acc'], label='Train Acc')\n",
        "    plt.plot(history['val_acc'], label='Val Acc')\n",
        "    plt.xlabel(\"Epochs\"); plt.ylabel(\"Accuracy\"); plt.legend(); plt.title(\"MLP Accuracy Curve\")\n",
        "    plt.show()\n",
        "\n",
        "    if \"train_loss\" in history and \"val_loss\" in history:\n",
        "        plt.figure(figsize=(10,4))\n",
        "        plt.plot(history['train_loss'], label='Train Loss')\n",
        "        plt.plot(history['val_loss'], label='Val Loss')\n",
        "        plt.xlabel(\"Epochs\"); plt.ylabel(\"Loss\"); plt.legend(); plt.title(\"MLP Loss Curve\")\n",
        "        plt.show()\n",
        "\n",
        "# Example: plot best model's history\n",
        "plot_history(best[3])   # hist object returned in grid_search\n"
      ],
      "metadata": {
        "colab": {
          "base_uri": "https://localhost:8080/",
          "height": 410
        },
        "id": "v_XPV0PX5efk",
        "outputId": "38a095fa-39ca-4c46-caa1-d967c285d51f"
      },
      "execution_count": 32,
      "outputs": [
        {
          "output_type": "display_data",
          "data": {
            "text/plain": [
              "<Figure size 1000x400 with 1 Axes>"
            ],
            "image/png": "[encoded data removed]"
          },
          "metadata": {}
        }
      ]
    },
    {
      "cell_type": "markdown",
      "source": [
        "2. Confusion Matrices"
      ],
      "metadata": {
        "id": "eo_CYX6w6Qts"
      }
    },
    {
      "cell_type": "code",
      "source": [
        "from sklearn.metrics import confusion_matrix\n",
        "import seaborn as sns\n",
        "\n",
        "# PLA confusion matrix\n",
        "cm_pla = confusion_matrix(y_test, y_test_pla)\n",
        "plt.figure(figsize=(10,8))\n",
        "sns.heatmap(cm_pla, cmap=\"Blues\", xticklabels=False, yticklabels=False)\n",
        "plt.title(\"Confusion Matrix - PLA\")\n",
        "plt.xlabel(\"Predicted\"); plt.ylabel(\"True\")\n",
        "plt.show()\n",
        "\n",
        "# MLP confusion matrix\n",
        "cm_mlp = confusion_matrix(y_test, preds_mlp)\n",
        "plt.figure(figsize=(10,8))\n",
        "sns.heatmap(cm_mlp, cmap=\"Greens\", xticklabels=False, yticklabels=False)\n",
        "plt.title(\"Confusion Matrix - MLP\")\n",
        "plt.xlabel(\"Predicted\"); plt.ylabel(\"True\")\n",
        "plt.show()"
      ],
      "metadata": {
        "colab": {
          "base_uri": "https://localhost:8080/",
          "height": 1000
        },
        "id": "3zdE40946Q-c",
        "outputId": "4e063558-46eb-4426-9280-af33d5d3150b"
      },
      "execution_count": 33,
      "outputs": [
        {
          "output_type": "display_data",
          "data": {
            "text/plain": [
              "<Figure size 1000x800 with 2 Axes>"
            ],
            "image/png": "[encoded data removed]"
          },
          "metadata": {}
        },
        {
          "output_type": "display_data",
          "data": {
            "text/plain": [
              "<Figure size 1000x800 with 2 Axes>"
            ],
            "image/png": "[encoded data removed]"
          },
          "metadata": {}
        }
      ]
    },
    {
      "cell_type": "markdown",
      "source": [
        "3. Final Comparison Table"
      ],
      "metadata": {
        "id": "IFUVdbbJ6Vls"
      }
    },
    {
      "cell_type": "code",
      "source": [
        "import pandas as pd\n",
        "\n",
        "pla_metrics = metrics(y_test, y_test_pla)\n",
        "mlp_metrics = metrics(y_test, preds_mlp)\n",
        "\n",
        "comparison = pd.DataFrame([pla_metrics, mlp_metrics], index=[\"PLA\", \"MLP\"])\n",
        "print(comparison)"
      ],
      "metadata": {
        "colab": {
          "base_uri": "https://localhost:8080/"
        },
        "id": "rgNGvjs46WzD",
        "outputId": "8c5b395c-95e5-4f63-dbd5-efe1c23d4ec9"
      },
      "execution_count": 34,
      "outputs": [
        {
          "output_type": "stream",
          "name": "stdout",
          "text": [
            "     accuracy  precision    recall        f1\n",
            "PLA  0.210938   0.215375  0.210797  0.198038\n",
            "MLP  0.505859   0.507514  0.508289  0.495398\n"
          ]
        }
      ]
    }
  ]
}